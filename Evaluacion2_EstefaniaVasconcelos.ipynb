{
 "cells": [
  {
   "cell_type": "code",
   "execution_count": 1,
   "id": "0b0373a0-2077-4df2-b6af-8324c0fd498b",
   "metadata": {},
   "outputs": [
    {
     "name": "stdout",
     "output_type": "stream",
     "text": [
      "2.1.1\n"
     ]
    }
   ],
   "source": [
    "import numpy as np\n",
    "print(np.__version__)"
   ]
  },
  {
   "cell_type": "markdown",
   "id": "f0c0cdb2-4604-49be-bf51-625f262bfaad",
   "metadata": {},
   "source": [
    "# Creación y manipulación de arrays\n",
    "### Crear un array de 10 elementos enteros aleatorios entre 1 y 100\n",
    "Usé la función `np.random.randint()` para generar un array de 10 números enteros aleatorios en el rango de 1 a 100 (incluyendo el 1 y excluyendo el 101). El argumento `size=10` especifica que queremos 10 números en el array."
   ]
  },
  {
   "cell_type": "code",
   "execution_count": 3,
   "id": "ab75255d-e591-4f06-8138-1c88019cac97",
   "metadata": {},
   "outputs": [
    {
     "name": "stdout",
     "output_type": "stream",
     "text": [
      "[42 56  2 93 45  6 62 66 46 92]\n"
     ]
    }
   ],
   "source": [
    "import numpy as np\n",
    "array_aleatorio = np.random.randint(1, 101, size=10)\n",
    "print(array_aleatorio)"
   ]
  },
  {
   "cell_type": "markdown",
   "id": "7f62abf0-c45e-402c-a936-c0beb3df6fdd",
   "metadata": {},
   "source": [
    "### Reshape: A partir del array anterior, convierte este array en una matriz de 2x5.\n",
    "Igual que antes, importamos la librería NumPy.Generamos el mismo array aleatorio de 10 elementos que creamos. Ahora Redimensionamos la matriz = array_aleatorio.reshape(2, 5) redimensiona el array a una matriz de 2 filas y 5 columnas. Cuando usamos reshape cambia la forma de un array sin cambiar sus datos. Es decir, los mismos 10 elementos se reorganizan en una nueva estructura."
   ]
  },
  {
   "cell_type": "code",
   "execution_count": 5,
   "id": "33bae8db-3025-4b5e-b9cd-b2e5faef5653",
   "metadata": {},
   "outputs": [
    {
     "name": "stdout",
     "output_type": "stream",
     "text": [
      "[[42 56  2 93 45]\n",
      " [ 6 62 66 46 92]]\n"
     ]
    }
   ],
   "source": [
    "import numpy as np\n",
    "array_aleatorio = np.array([42, 56,  2, 93, 45,  6, 62, 66, 46, 92])\n",
    "matriz = array_aleatorio.reshape(2, 5)\n",
    "print(matriz)"
   ]
  },
  {
   "cell_type": "markdown",
   "id": "fe9caea5-55c4-4b39-8359-e3f9c58b83b6",
   "metadata": {},
   "source": [
    "### Indexación y slicing: De la matriz obtenida, extrae la primera fila y la última columna. Imprime ambos resultados por separado.\n",
    "matriz[0, :]: Aquí, 0 indica voy a acceder a la primera fila y los dos puntos indican que quiero todos los elementos de esa fila.\n",
    "Y para extraer la última columna matriz[:, -1]: Aquí, : indica que quiero todas las filas. El -1 indica que quiero el último elemento de cada fila, es decir, la última columna."
   ]
  },
  {
   "cell_type": "code",
   "execution_count": 2,
   "id": "81acfee3-4ee0-4a1c-856e-bec8e1a2083b",
   "metadata": {
    "scrolled": true
   },
   "outputs": [
    {
     "name": "stdout",
     "output_type": "stream",
     "text": [
      "Primera fila:\n",
      "[42 56  2 93 45]\n",
      "Última columna:\n",
      "[45 92]\n"
     ]
    }
   ],
   "source": [
    "import numpy as np\n",
    "array_aleatorio = np.array([42, 56,  2, 93, 45,  6, 62, 66, 46, 92])\n",
    "matriz = array_aleatorio.reshape(2, 5)\n",
    "primera_fila = matriz[0, :]\n",
    "ultima_columna = matriz[:, -1]\n",
    "print(\"Primera fila:\")\n",
    "print(primera_fila)\n",
    "print(\"Última columna:\")\n",
    "print(ultima_columna)"
   ]
  },
  {
   "cell_type": "markdown",
   "id": "c041cb17-1717-4cf3-811c-c49b770fc2f0",
   "metadata": {},
   "source": [
    "### Modificación: Cambia el valor de los elementos en la segunda fila a ceros.\n",
    "matriz[1, :] = 0: Esta línea es donde se cambia la segunda fila.\n",
    "matriz[1] selecciona la segunda fila \n",
    ": indica que quiero seleccionar todos los elementos de esa fila.\n",
    "= 0 asigna el valor 0 a todos los elementos seleccionados."
   ]
  },
  {
   "cell_type": "code",
   "execution_count": 8,
   "id": "10d82e8b-1703-4218-8a2c-d5c3dc0a64e6",
   "metadata": {},
   "outputs": [
    {
     "name": "stdout",
     "output_type": "stream",
     "text": [
      "[[42 56  2 93 45]\n",
      " [ 0  0  0  0  0]]\n"
     ]
    }
   ],
   "source": [
    "import numpy as np\n",
    "array_aleatorio = np.array([42, 56,  2, 93, 45,  6, 62, 66, 46, 92])\n",
    "matriz = array_aleatorio.reshape(2, 5)\n",
    "matriz[1, :] = 0\n",
    "print(matriz)"
   ]
  },
  {
   "cell_type": "markdown",
   "id": "a1d6d59c-1b0d-495c-9424-9493077cb510",
   "metadata": {},
   "source": [
    "# Operaciones básicas con NumPy \n",
    "### Operaciones aritméticas\n",
    "Primero, generamos dos arrays de 5 elementos enteros aleatorios entre 1 y 50. Utilizamos `np.random.randint()` para esto, lo que nos permite crear arrays de números aleatorios en un rango especificado.Luego, multiplicamos los dos arrays de la misma manera. La multiplicación también se realiza elemento a elemento.Finalmente, calculamos el promedio y la desviación estándar de los resultados obtenidos de la multiplicación. Utilizamos np.mean() para calcular el promedio y np.std() para calcular la desviación estándar."
   ]
  },
  {
   "cell_type": "code",
   "execution_count": 6,
   "id": "563092c5-1a1d-41f3-a5c8-4081614e18af",
   "metadata": {},
   "outputs": [
    {
     "name": "stdout",
     "output_type": "stream",
     "text": [
      "\n",
      "Suma de los arrays:\n",
      " [52 57 43 74 49]\n",
      "\n",
      "Multiplicación de los arrays:\n",
      " [ 675  806  222 1360  528]\n",
      "\n",
      "Promedio de la multiplicación: 718.2\n",
      "Desviación estándar de la multiplicación: 375.1993603406061\n"
     ]
    }
   ],
   "source": [
    "# Crear dos arrays de 5 elementos enteros aleatorios entre 1 y 50\n",
    "array1 = np.random.randint(1, 51, size=5)\n",
    "array2 = np.random.randint(1, 51, size=5)\n",
    "\n",
    "# Sumar ambos arrays\n",
    "suma = array1 + array2\n",
    "print(\"\\nSuma de los arrays:\\n\", suma)\n",
    "\n",
    "# Multiplicar ambos arrays\n",
    "multiplicacion = array1 * array2\n",
    "print(\"\\nMultiplicación de los arrays:\\n\", multiplicacion)\n",
    "\n",
    "# Calcular el promedio y la desviación estándar de los resultados\n",
    "promedio = np.mean(multiplicacion)\n",
    "desviacion_estandar = np.std(multiplicacion)\n",
    "print(\"\\nPromedio de la multiplicación:\", promedio)\n",
    "print(\"Desviación estándar de la multiplicación:\", desviacion_estandar)"
   ]
  },
  {
   "cell_type": "markdown",
   "id": "baecee68-452e-4309-a2e2-84d568e7fe57",
   "metadata": {},
   "source": [
    "### Condiciones lógicas\n",
    "Creamos un array de 20 números aleatorios entre 0 y 1. Luego, se ocupan condiciones lógicas para reemplazar los valores menores a 0.5 con 0 y los valores mayores o iguales a 0.5 con 1. \n",
    "Primero, se hace un array con 20 números aleatorios en el rango [0, 1). Para esto, usamos `np.random.rand()` que genera números aleatorios en ese rango.En NumPy, podemos usar condicionales directamente sobre el array, lo que genera una máscara booleana que indica qué elementos cumplen la condición. De manera similar, podemos aplicar otra condición lógica para reemplazar los valores mayores o iguales a 0.5 por 1."
   ]
  },
  {
   "cell_type": "code",
   "execution_count": 5,
   "id": "a77f9145-a069-4d6a-848b-529287cedb36",
   "metadata": {},
   "outputs": [
    {
     "name": "stdout",
     "output_type": "stream",
     "text": [
      "\n",
      "Array después de aplicar condiciones lógicas:\n",
      " [0. 0. 0. 0. 0. 1. 0. 0. 1. 1. 1. 0. 1. 0. 1. 1. 1. 1. 0. 0.]\n"
     ]
    }
   ],
   "source": [
    "array_condiciones = np.random.rand(20)\n",
    "array_condiciones[array_condiciones < 0.5] = 0\n",
    "array_condiciones[array_condiciones >= 0.5] = 1\n",
    "print(\"\\nArray después de aplicar condiciones lógicas:\\n\", array_condiciones)"
   ]
  },
  {
   "cell_type": "markdown",
   "id": "ba2b8537-1a18-4b9b-a63f-bb8d0c7e3ce3",
   "metadata": {},
   "source": [
    "### Producto escalar\n",
    "Se hacen dos matrices de 3x3 y  se calcula el producto escalar entre ellas usando `np.dot()`. Este método realiza la multiplicación matricial de manera eficiente."
   ]
  },
  {
   "cell_type": "code",
   "execution_count": 8,
   "id": "04680a1e-3415-41a1-abc1-46f76c5ad2d0",
   "metadata": {},
   "outputs": [
    {
     "name": "stdout",
     "output_type": "stream",
     "text": [
      "\n",
      "Producto escalar de las matrices 3x3:\n",
      " [[143 118 186]\n",
      " [ 88  80  91]\n",
      " [128 106 166]]\n"
     ]
    }
   ],
   "source": [
    "array_3x3_1 = np.random.randint(1, 11, size=(3, 3))\n",
    "array_3x3_2 = np.random.randint(1, 11, size=(3, 3))\n",
    "producto_escalar = np.dot(array_3x3_1, array_3x3_2)\n",
    "print(\"\\nProducto escalar de las matrices 3x3:\\n\", producto_escalar)"
   ]
  },
  {
   "cell_type": "markdown",
   "id": "4079e246-f66a-46b4-94a2-0c144a742c7b",
   "metadata": {},
   "source": [
    "# Análisis de datos con NumPy \n",
    "### Matriz de datos\n",
    "En esta sección, creamos una matriz de datos que simula mediciones de 5 personas, con 4 atributos: peso, altura, edad y presión arterial. Para organizar mejor los datos, utilice un DataFrame de la librería **Pandas**, lo que facilita el acceso a los datos y su análisis y me ayuda para hacerlo visual y poder entenderle. \n",
    "Primero, generamos una matriz de datos aleatorios utilizando `np.random.randint()` de NumPy. Luego utilice **Pandas** para convertir la matriz en un DataFrame y asignar nombres tanto a las columnas como a las filas.\n",
    "y por ultimo en df.index = ['Persona 1', 'Persona 2', 'Persona 3', ...]: Asigno etiquetas a las filas para que cada una represente a una persona en lugar de números de índice.\n",
    "\n",
    "### Estadísticas\n",
    "1. **Calcular la media de cada columna**:\n",
    "   Para calcular la media de cada medición (peso, altura, edad, presión arterial), utilizamos la función `np.mean()` de **NumPy** con `axis=0` para que el cálculo se realice a lo largo de las columnas.\n",
    "\n",
    "2. **Encontrar el valor máximo y mínimo de cada fila**:\n",
    "   Utilizamos las funciones `np.max()` y `np.min()` de **NumPy** con `axis=1` para encontrar los valores máximo y mínimo de cada fila (que representan a las personas).\n",
    "\n",
    "3. **Ordenar las filas según la columna 'peso'**:\n",
    "   Para ordenar las filas según la columna \"peso\", usamos `np.argsort()` de **NumPy** para obtener los índices que ordenan el array y luego reorganizamos el DataFrame usando esos índices. También, **Pandas** ofrece una función directa `sort_values()` para hacer este tipo de ordenamientos.\n",
    "Estas operaciones nos permiten analizar los datos de manera eficiente y observar las mediciones de cada persona de forma más clara."
   ]
  },
  {
   "cell_type": "code",
   "execution_count": 5,
   "id": "4df247ce-7285-4b75-9d5c-48a10d0a1ca5",
   "metadata": {},
   "outputs": [
    {
     "name": "stdout",
     "output_type": "stream",
     "text": [
      "Datos originales:\n",
      "            peso  altura  edad  presion_arterial\n",
      "Persona 1    10      17     5                 1\n",
      "Persona 2     9       6    13                16\n",
      "Persona 3     5      12    10                19\n",
      "Persona 4    14       3    20                14\n",
      "Persona 5    16       6    17                 5\n",
      "\n",
      "Media de cada columna:\n",
      " peso                10.8\n",
      "altura               8.8\n",
      "edad                13.0\n",
      "presion_arterial    11.0\n",
      "dtype: float64\n",
      "\n",
      "Valor máximo de cada fila:\n",
      " [17 16 19 20 17]\n",
      "\n",
      "Valor mínimo de cada fila:\n",
      " [1 6 5 3 5]\n",
      "\n",
      "Filas ordenadas según la columna 'peso':\n",
      "            peso  altura  edad  presion_arterial\n",
      "Persona 3     5      12    10                19\n",
      "Persona 2     9       6    13                16\n",
      "Persona 1    10      17     5                 1\n",
      "Persona 4    14       3    20                14\n",
      "Persona 5    16       6    17                 5\n"
     ]
    }
   ],
   "source": [
    "import numpy as np\n",
    "import pandas as pd\n",
    "\n",
    "datos_personas = np.random.randint(1, 21, size=(5, 4))\n",
    "columnas = ['peso', 'altura', 'edad', 'presion_arterial']\n",
    "df = pd.DataFrame(datos_personas, columns=columnas)\n",
    "df.index = ['Persona 1', 'Persona 2', 'Persona 3', 'Persona 4', 'Persona 5']\n",
    "\n",
    "print(\"Datos originales:\\n\", df)\n",
    "\n",
    "# 1. Calcular la media de cada columna\n",
    "media_columnas = np.mean(df, axis=0)\n",
    "print(\"\\nMedia de cada columna:\\n\", media_columnas)\n",
    "\n",
    "# 2. Encontrar el valor máximo y mínimo de cada fila\n",
    "max_filas = np.max(df.values, axis=1)\n",
    "min_filas = np.min(df.values, axis=1)\n",
    "print(\"\\nValor máximo de cada fila:\\n\", max_filas)\n",
    "print(\"\\nValor mínimo de cada fila:\\n\", min_filas)\n",
    "\n",
    "# 3. Ordenar las filas según la columna \"peso\"\n",
    "sorted_indices = np.argsort(df['peso'].values)\n",
    "df_sorted_numpy = df.iloc[sorted_indices]\n",
    "print(\"\\nFilas ordenadas según la columna 'peso':\\n\", df_sorted_numpy)"
   ]
  },
  {
   "cell_type": "markdown",
   "id": "9be7a513-3b35-4852-ae1e-27f2f87ec6d1",
   "metadata": {},
   "source": []
  }
 ],
 "metadata": {
  "kernelspec": {
   "display_name": "Python 3 (ipykernel)",
   "language": "python",
   "name": "python3"
  },
  "language_info": {
   "codemirror_mode": {
    "name": "ipython",
    "version": 3
   },
   "file_extension": ".py",
   "mimetype": "text/x-python",
   "name": "python",
   "nbconvert_exporter": "python",
   "pygments_lexer": "ipython3",
   "version": "3.12.7"
  }
 },
 "nbformat": 4,
 "nbformat_minor": 5
}
